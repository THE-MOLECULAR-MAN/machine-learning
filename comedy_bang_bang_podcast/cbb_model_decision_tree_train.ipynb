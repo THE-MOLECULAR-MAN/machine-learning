{
 "cells": [
  {
   "cell_type": "markdown",
   "metadata": {},
   "source": [
    "# Comedy Bang Bang Podcast Best Of - Decision Tree Model"
   ]
  },
  {
   "cell_type": "code",
   "execution_count": 19,
   "metadata": {},
   "outputs": [],
   "source": [
    "# Define some exclusions for PEP8 that don't apply when the Jupyter Notebook\n",
    "#   is exported to .py file\n",
    "# pylint: disable=pointless-statement\n",
    "# pylint: disable=fixme\n",
    "# pylint: disable=expression-not-assigned\n",
    "# pylint: disable=missing-module-docstring\n",
    "# pylint: disable=invalid-name\n",
    "\n",
    "import os\n",
    "\n",
    "import pandas as pd\n",
    "import numpy as np\n",
    "import matplotlib.pyplot as plt\n",
    "import seaborn as sns\n",
    "\n",
    "from sklearn.model_selection import train_test_split\n",
    "from sklearn.tree import DecisionTreeClassifier\n",
    "import sklearn.metrics as sklm"
   ]
  },
  {
   "cell_type": "markdown",
   "metadata": {},
   "source": [
    "# Setting custom parameters for this model"
   ]
  },
  {
   "cell_type": "code",
   "execution_count": 20,
   "metadata": {},
   "outputs": [],
   "source": [
    "# percentage of training data to use for test\n",
    "TEST_SIZE = 0.33\n",
    "\n",
    "# random seed\n",
    "RANDOM_STATE = 1234\n",
    "\n",
    "# the name for the column that indicates the label/target\n",
    "# the training CSV file should have headers\n",
    "LABEL_COLUMN_NAME = \"label\"\n",
    "\n",
    "# First search range for Max Tree Depth to find a local max:\n",
    "# max_depth_range = [2**i for i in range(6)] # ranges from 1 to 2^5\n",
    "\n",
    "# second search range, zooming in on near the broad maximum found\n",
    "MAX_TREE_DEPTH_RANGE = range(2, 20)\n",
    "\n",
    "# original test to look for local maximum broadly\n",
    "# leaf_range = [2**i for i in range(8)]\n",
    "# new range to local specific max:\n",
    "MIN_SAMPLES_TO_MAKE_LEAF_RANGE = range(1, 20, 1)\n",
    "\n",
    "# acceptable values: accuracy, f1, precision, recall\n",
    "METRIC_TO_MEASURE = \"accuracy\""
   ]
  },
  {
   "cell_type": "code",
   "execution_count": 21,
   "metadata": {},
   "outputs": [
    {
     "data": {
      "text/html": [
       "<div>\n",
       "<style scoped>\n",
       "    .dataframe tbody tr th:only-of-type {\n",
       "        vertical-align: middle;\n",
       "    }\n",
       "\n",
       "    .dataframe tbody tr th {\n",
       "        vertical-align: top;\n",
       "    }\n",
       "\n",
       "    .dataframe thead th {\n",
       "        text-align: right;\n",
       "    }\n",
       "</style>\n",
       "<table border=\"1\" class=\"dataframe\">\n",
       "  <thead>\n",
       "    <tr style=\"text-align: right;\">\n",
       "      <th></th>\n",
       "      <th>actors_Adam Brody</th>\n",
       "      <th>actors_Adam Cayton-Holland</th>\n",
       "      <th>actors_Adam DeVine</th>\n",
       "      <th>actors_Adam Pally</th>\n",
       "      <th>actors_Adam Resnick</th>\n",
       "      <th>actors_Adam Scott</th>\n",
       "      <th>actors_Aimee Mann</th>\n",
       "      <th>actors_Aisling Bea</th>\n",
       "      <th>actors_Al Madrigal</th>\n",
       "      <th>actors_Alan Tudyk</th>\n",
       "      <th>...</th>\n",
       "      <th>characters_the Mailer Daemon</th>\n",
       "      <th>characters_the Pie Minister</th>\n",
       "      <th>characters_themselves</th>\n",
       "      <th>characters_Étouffée</th>\n",
       "      <th>duration_in_minutes_winsorized_normalized</th>\n",
       "      <th>hundo</th>\n",
       "      <th>month_published_int_winsorized_normalized</th>\n",
       "      <th>num_actors</th>\n",
       "      <th>num_chars</th>\n",
       "      <th>label</th>\n",
       "    </tr>\n",
       "  </thead>\n",
       "  <tbody>\n",
       "    <tr>\n",
       "      <th>0</th>\n",
       "      <td>False</td>\n",
       "      <td>False</td>\n",
       "      <td>False</td>\n",
       "      <td>False</td>\n",
       "      <td>False</td>\n",
       "      <td>False</td>\n",
       "      <td>False</td>\n",
       "      <td>False</td>\n",
       "      <td>False</td>\n",
       "      <td>False</td>\n",
       "      <td>...</td>\n",
       "      <td>False</td>\n",
       "      <td>False</td>\n",
       "      <td>False</td>\n",
       "      <td>False</td>\n",
       "      <td>0.000000</td>\n",
       "      <td>False</td>\n",
       "      <td>0.000000</td>\n",
       "      <td>3</td>\n",
       "      <td>2</td>\n",
       "      <td>True</td>\n",
       "    </tr>\n",
       "    <tr>\n",
       "      <th>1</th>\n",
       "      <td>False</td>\n",
       "      <td>False</td>\n",
       "      <td>False</td>\n",
       "      <td>False</td>\n",
       "      <td>False</td>\n",
       "      <td>False</td>\n",
       "      <td>False</td>\n",
       "      <td>False</td>\n",
       "      <td>False</td>\n",
       "      <td>False</td>\n",
       "      <td>...</td>\n",
       "      <td>False</td>\n",
       "      <td>False</td>\n",
       "      <td>False</td>\n",
       "      <td>False</td>\n",
       "      <td>0.024390</td>\n",
       "      <td>False</td>\n",
       "      <td>0.000000</td>\n",
       "      <td>3</td>\n",
       "      <td>1</td>\n",
       "      <td>False</td>\n",
       "    </tr>\n",
       "    <tr>\n",
       "      <th>2</th>\n",
       "      <td>False</td>\n",
       "      <td>False</td>\n",
       "      <td>False</td>\n",
       "      <td>False</td>\n",
       "      <td>False</td>\n",
       "      <td>False</td>\n",
       "      <td>False</td>\n",
       "      <td>False</td>\n",
       "      <td>False</td>\n",
       "      <td>False</td>\n",
       "      <td>...</td>\n",
       "      <td>False</td>\n",
       "      <td>False</td>\n",
       "      <td>False</td>\n",
       "      <td>False</td>\n",
       "      <td>0.012195</td>\n",
       "      <td>False</td>\n",
       "      <td>0.000000</td>\n",
       "      <td>3</td>\n",
       "      <td>0</td>\n",
       "      <td>False</td>\n",
       "    </tr>\n",
       "    <tr>\n",
       "      <th>3</th>\n",
       "      <td>False</td>\n",
       "      <td>False</td>\n",
       "      <td>False</td>\n",
       "      <td>False</td>\n",
       "      <td>False</td>\n",
       "      <td>False</td>\n",
       "      <td>False</td>\n",
       "      <td>False</td>\n",
       "      <td>False</td>\n",
       "      <td>False</td>\n",
       "      <td>...</td>\n",
       "      <td>False</td>\n",
       "      <td>False</td>\n",
       "      <td>False</td>\n",
       "      <td>False</td>\n",
       "      <td>0.000000</td>\n",
       "      <td>False</td>\n",
       "      <td>0.000000</td>\n",
       "      <td>5</td>\n",
       "      <td>0</td>\n",
       "      <td>False</td>\n",
       "    </tr>\n",
       "    <tr>\n",
       "      <th>4</th>\n",
       "      <td>False</td>\n",
       "      <td>False</td>\n",
       "      <td>False</td>\n",
       "      <td>False</td>\n",
       "      <td>False</td>\n",
       "      <td>False</td>\n",
       "      <td>False</td>\n",
       "      <td>False</td>\n",
       "      <td>False</td>\n",
       "      <td>False</td>\n",
       "      <td>...</td>\n",
       "      <td>False</td>\n",
       "      <td>False</td>\n",
       "      <td>False</td>\n",
       "      <td>False</td>\n",
       "      <td>0.060976</td>\n",
       "      <td>False</td>\n",
       "      <td>0.090909</td>\n",
       "      <td>3</td>\n",
       "      <td>1</td>\n",
       "      <td>False</td>\n",
       "    </tr>\n",
       "  </tbody>\n",
       "</table>\n",
       "<p>5 rows × 1277 columns</p>\n",
       "</div>"
      ],
      "text/plain": [
       "   actors_Adam Brody  actors_Adam Cayton-Holland  actors_Adam DeVine  \\\n",
       "0              False                       False               False   \n",
       "1              False                       False               False   \n",
       "2              False                       False               False   \n",
       "3              False                       False               False   \n",
       "4              False                       False               False   \n",
       "\n",
       "   actors_Adam Pally  actors_Adam Resnick  actors_Adam Scott  \\\n",
       "0              False                False              False   \n",
       "1              False                False              False   \n",
       "2              False                False              False   \n",
       "3              False                False              False   \n",
       "4              False                False              False   \n",
       "\n",
       "   actors_Aimee Mann  actors_Aisling Bea  actors_Al Madrigal  \\\n",
       "0              False               False               False   \n",
       "1              False               False               False   \n",
       "2              False               False               False   \n",
       "3              False               False               False   \n",
       "4              False               False               False   \n",
       "\n",
       "   actors_Alan Tudyk  ...  characters_the Mailer Daemon  \\\n",
       "0              False  ...                         False   \n",
       "1              False  ...                         False   \n",
       "2              False  ...                         False   \n",
       "3              False  ...                         False   \n",
       "4              False  ...                         False   \n",
       "\n",
       "   characters_the Pie Minister  characters_themselves  characters_Étouffée  \\\n",
       "0                        False                  False                False   \n",
       "1                        False                  False                False   \n",
       "2                        False                  False                False   \n",
       "3                        False                  False                False   \n",
       "4                        False                  False                False   \n",
       "\n",
       "   duration_in_minutes_winsorized_normalized  hundo  \\\n",
       "0                                   0.000000  False   \n",
       "1                                   0.024390  False   \n",
       "2                                   0.012195  False   \n",
       "3                                   0.000000  False   \n",
       "4                                   0.060976  False   \n",
       "\n",
       "   month_published_int_winsorized_normalized  num_actors  num_chars  label  \n",
       "0                                   0.000000           3          2   True  \n",
       "1                                   0.000000           3          1  False  \n",
       "2                                   0.000000           3          0  False  \n",
       "3                                   0.000000           5          0  False  \n",
       "4                                   0.090909           3          1  False  \n",
       "\n",
       "[5 rows x 1277 columns]"
      ]
     },
     "execution_count": 21,
     "metadata": {},
     "output_type": "execute_result"
    }
   ],
   "source": [
    "#############################\n",
    "# training and test data\n",
    "train_filename = os.path.join(\n",
    "    os.getcwd(), \"data\", \"Comedy_bang_bang_podcast_dataset_2023-final_train.csv\"\n",
    ")\n",
    "df = pd.read_csv(train_filename, header=0)\n",
    "\n",
    "df.head()"
   ]
  },
  {
   "cell_type": "code",
   "execution_count": 22,
   "metadata": {},
   "outputs": [
    {
     "name": "stdout",
     "output_type": "stream",
     "text": [
      "Feature datatype check passed.\n"
     ]
    }
   ],
   "source": [
    "# verify that there are only numeric and boolean datatypes left\n",
    "# there should not be any strings left\n",
    "for index, value in df.dtypes.items():\n",
    "    assert value in [\n",
    "        \"float64\",\n",
    "        \"bool\",\n",
    "        \"int64\",\n",
    "    ], f\"Column name {index} is not numeric or boolean- found {value}. All features at this point should be numeric or boolean. Exiting.\"\n",
    "\n",
    "print(\"Feature datatype check passed.\")"
   ]
  },
  {
   "cell_type": "markdown",
   "metadata": {},
   "source": [
    "# Check that the data does not contain any missing values.\n",
    "The absense of missing values is necessary for training a Decision Tree model."
   ]
  },
  {
   "cell_type": "code",
   "execution_count": 23,
   "metadata": {},
   "outputs": [],
   "source": [
    "# get a Panda Series of the columns and number of NaNs in each one\n",
    "nan_count = np.sum(df.isnull(), axis=0)\n",
    "\n",
    "# iterate through the Series. It could be easier to just throw and exception if\n",
    "# any have a value of zero.\n",
    "for index, value in nan_count.items():\n",
    "    assert (\n",
    "        value == 0\n",
    "    ), f\"Column name {df.columns[index]} (index = {index}) has {value} missing values (NaN). Decision trees cannot have any missing values. Exiting.\""
   ]
  },
  {
   "cell_type": "markdown",
   "metadata": {},
   "source": [
    "# Split up the data"
   ]
  },
  {
   "cell_type": "code",
   "execution_count": 24,
   "metadata": {},
   "outputs": [],
   "source": [
    "y = df[LABEL_COLUMN_NAME]\n",
    "X = df.drop(columns=LABEL_COLUMN_NAME, axis=1)\n",
    "\n",
    "X_train, X_test, y_train, y_test = train_test_split(\n",
    "    X, y, test_size=TEST_SIZE, random_state=RANDOM_STATE\n",
    ")"
   ]
  },
  {
   "cell_type": "markdown",
   "metadata": {},
   "source": [
    "# Define a function that builds a model given hyperparameters"
   ]
  },
  {
   "cell_type": "code",
   "execution_count": 25,
   "metadata": {},
   "outputs": [],
   "source": [
    "def train_test_DT(X_train1, X_test1, y_train1, y_test1, leaf1, depth1, crit=\"entropy\"):\n",
    "    \"\"\"\n",
    "    Fit a Decision Tree classifier to the training data X_train, y_train.\n",
    "    Return the accuracy of resulting predictions on the test set.\n",
    "    Parameters:\n",
    "        leaf := The minimum number of samples required to be at a leaf node\n",
    "        depth := The maximum depth of the tree\n",
    "        crit := The function to be used to measure the quality of a split.\n",
    "\n",
    "                Default: gini.\n",
    "    \"\"\"\n",
    "    # Instantiate the  Scikit-learn DecisionTreeClassifier model object\n",
    "    # with specific hyperparameters\n",
    "    model = DecisionTreeClassifier(\n",
    "        max_depth=depth1, min_samples_leaf=leaf1, criterion=crit\n",
    "    )\n",
    "\n",
    "    # Fit the model to the training data below\n",
    "    model.fit(X_train1, y_train1)\n",
    "\n",
    "    # Make predictions on the test data and store the results\n",
    "    class_label_predictions = model.predict(X_test1)\n",
    "\n",
    "    # Compute the accuracy\n",
    "    metrics = {\n",
    "        \"accuracy\": sklm.accuracy_score(y_test1, class_label_predictions),\n",
    "        \"f1\": sklm.f1_score(y_test1, class_label_predictions),\n",
    "        \"precision\": sklm.precision_score(y_test1, class_label_predictions),\n",
    "        \"recall\": sklm.recall_score(y_test1, class_label_predictions),\n",
    "    }\n",
    "\n",
    "    return metrics"
   ]
  },
  {
   "cell_type": "markdown",
   "metadata": {},
   "source": [
    "# Train on different hyperparameter values"
   ]
  },
  {
   "cell_type": "markdown",
   "metadata": {},
   "source": [
    "### Hyperparameter value: Maximum Depth of Tree"
   ]
  },
  {
   "cell_type": "code",
   "execution_count": 26,
   "metadata": {},
   "outputs": [
    {
     "data": {
      "image/png": "[encoded data removed]",
      "text/plain": [
       "<Figure size 640x480 with 1 Axes>"
      ]
     },
     "metadata": {},
     "output_type": "display_data"
    }
   ],
   "source": [
    "# specify the min number of samples to create a leaf as 1 for this\n",
    "# first iteration\n",
    "min_samples_to_create_leaf = 5\n",
    "\n",
    "# initialize an empty list to store results\n",
    "metrics_list = []\n",
    "\n",
    "# iterate on the list of max depths\n",
    "for iter_max_depth_value in MAX_TREE_DEPTH_RANGE:\n",
    "    # train the model and store the accuracy\n",
    "    resulting_metrics = train_test_DT(\n",
    "        X_train,\n",
    "        X_test,\n",
    "        y_train,\n",
    "        y_test,\n",
    "        min_samples_to_create_leaf,\n",
    "        iter_max_depth_value,\n",
    "    )\n",
    "    # print(f'Max Depth= {md} accuracy score: {score}')\n",
    "\n",
    "    # add the results to the list for future plotting\n",
    "    metrics_list.append(float(resulting_metrics[METRIC_TO_MEASURE]))\n",
    "\n",
    "fig = plt.figure()\n",
    "ax = fig.add_subplot(111)\n",
    "p = sns.lineplot(\n",
    "    x=MAX_TREE_DEPTH_RANGE, y=metrics_list, marker=\"o\", label=\"Full training set\"\n",
    ")\n",
    "\n",
    "plt.title(f\"Test set {METRIC_TO_MEASURE} of the Decision Tree predictions\")\n",
    "ax.set_xlabel(\"Max depth of Decision Tree\")\n",
    "ax.set_ylabel(METRIC_TO_MEASURE)\n",
    "plt.show()"
   ]
  },
  {
   "cell_type": "markdown",
   "metadata": {},
   "source": [
    "# Storing the best value for hyperparameter: Maximum Tree Depth"
   ]
  },
  {
   "cell_type": "code",
   "execution_count": 27,
   "metadata": {},
   "outputs": [],
   "source": [
    "# best max depth value found:\n",
    "OPTIMUM_MAX_DEPTH = 2"
   ]
  },
  {
   "cell_type": "code",
   "execution_count": 28,
   "metadata": {},
   "outputs": [
    {
     "data": {
      "image/png": "[encoded data removed]",
      "text/plain": [
       "<Figure size 640x480 with 1 Axes>"
      ]
     },
     "metadata": {},
     "output_type": "display_data"
    }
   ],
   "source": [
    "# initialize an empty list to store results\n",
    "metrics_list_leaf = []\n",
    "\n",
    "# iterate through list of potential leaf values\n",
    "for leaf in MIN_SAMPLES_TO_MAKE_LEAF_RANGE:\n",
    "    score = train_test_DT(X_train, X_test, y_train, y_test, leaf, OPTIMUM_MAX_DEPTH)\n",
    "    # print(f'Leaf = {leaf}, accuracy score: {score}')\n",
    "    metrics_list_leaf.append(float(resulting_metrics[METRIC_TO_MEASURE]))\n",
    "\n",
    "fig = plt.figure()\n",
    "ax = fig.add_subplot(111)\n",
    "p = sns.lineplot(\n",
    "    x=MIN_SAMPLES_TO_MAKE_LEAF_RANGE,\n",
    "    y=metrics_list_leaf,\n",
    "    marker=\"o\",\n",
    "    label=\"Full training set\",\n",
    ")\n",
    "\n",
    "plt.title(\"Test set accuracy of the DT predictions, Leaf\")\n",
    "ax.set_xlabel(\"minimum number of samples required to be at a leaf node\")\n",
    "ax.set_ylabel(METRIC_TO_MEASURE)\n",
    "plt.show()"
   ]
  },
  {
   "cell_type": "markdown",
   "metadata": {},
   "source": [
    "# Storing the best value for hyperparameter: Leaf"
   ]
  },
  {
   "cell_type": "code",
   "execution_count": 29,
   "metadata": {},
   "outputs": [],
   "source": [
    "OPTIMUM_LEAF = 2"
   ]
  },
  {
   "cell_type": "markdown",
   "metadata": {},
   "source": [
    "# Run the final model"
   ]
  },
  {
   "cell_type": "code",
   "execution_count": 30,
   "metadata": {},
   "outputs": [
    {
     "data": {
      "text/plain": [
       "{'accuracy': 0.7620967741935484,\n",
       " 'f1': 0.5203252032520326,\n",
       " 'precision': 0.47058823529411764,\n",
       " 'recall': 0.5818181818181818}"
      ]
     },
     "execution_count": 30,
     "metadata": {},
     "output_type": "execute_result"
    }
   ],
   "source": [
    "# run the final model that uses both of the optimum values:\n",
    "final_metrics = train_test_DT(\n",
    "    X_train, X_test, y_train, y_test, OPTIMUM_LEAF, OPTIMUM_MAX_DEPTH\n",
    ")\n",
    "final_metrics\n",
    "# print(f\"Maximum accuracy score: {score:.4}\")"
   ]
  },
  {
   "cell_type": "markdown",
   "metadata": {},
   "source": [
    "# Optimizing hyperparmeters"
   ]
  },
  {
   "cell_type": "code",
   "execution_count": 31,
   "metadata": {},
   "outputs": [
    {
     "name": "stdout",
     "output_type": "stream",
     "text": [
      "Best leaf value =    4, Best max depth =    6, resulted in highest value of accuracy   = 0.83065\n",
      "Best leaf value =    5, Best max depth =   15, resulted in highest value of f1         = 0.55238\n",
      "Best leaf value =    4, Best max depth =    7, resulted in highest value of precision  = 0.72414\n",
      "Best leaf value =    1, Best max depth =    2, resulted in highest value of recall     = 0.58182\n"
     ]
    }
   ],
   "source": [
    "# calculate options\n",
    "# dims = (len(MIN_SAMPLES_TO_MAKE_LEAF_RANGE)+1, len(MAX_TREE_DEPTH_RANGE)+1)\n",
    "# metrics_3d = np.ones(dims)\n",
    "\n",
    "for METRIC_TO_MEASURE in [\"accuracy\", \"f1\", \"precision\", \"recall\"]:\n",
    "    best_leaf = 0\n",
    "    best_depth = 0\n",
    "    best_metric = 0\n",
    "\n",
    "    for r, iter_leaf in enumerate(MIN_SAMPLES_TO_MAKE_LEAF_RANGE):\n",
    "        for c, iter_max_depth_value in enumerate(MAX_TREE_DEPTH_RANGE):\n",
    "            # train the model and store the accuracy\n",
    "            resulting_metrics = train_test_DT(\n",
    "                X_train, X_test, y_train, y_test, iter_leaf, iter_max_depth_value\n",
    "            )\n",
    "\n",
    "            # need to optimize so I don't have to loop through this 4 times\n",
    "            met = resulting_metrics[METRIC_TO_MEASURE]\n",
    "            if met > best_metric:\n",
    "                best_leaf = iter_leaf\n",
    "                best_depth = iter_max_depth_value\n",
    "                best_metric = met\n",
    "\n",
    "    print(\n",
    "        f\"Best leaf value = {best_leaf:4}, Best max depth = {best_depth:4}, resulted in highest value of {METRIC_TO_MEASURE:10} = {best_metric:.5}\"\n",
    "    )\n",
    "\n",
    "# Before including actors and characters:\n",
    "# Best leaf value =    9, Best max depth =    2, resulted in highest value of accuracy   = 0.79032\n",
    "# Best leaf value =    4, Best max depth =   14, resulted in highest value of f1         = 0.34043\n",
    "# Best leaf value =    9, Best max depth =    2, resulted in highest value of precision  = 0.71429\n",
    "# Best leaf value =    1, Best max depth =   16, resulted in highest value of recall     = 0.30909\n",
    "\n",
    "# After including actors and characters:\n",
    "# Best leaf value =    4, Best max depth =    7, resulted in highest value of accuracy   = 0.83065\n",
    "# Best leaf value =    5, Best max depth =   11, resulted in highest value of f1         = 0.55238\n",
    "# Best leaf value =    4, Best max depth =    5, resulted in highest value of precision  = 0.71429\n",
    "# Best leaf value =    1, Best max depth =    2, resulted in highest value of recall     = 0.58182"
   ]
  },
  {
   "cell_type": "code",
   "execution_count": null,
   "metadata": {},
   "outputs": [],
   "source": []
  },
  {
   "cell_type": "code",
   "execution_count": null,
   "metadata": {},
   "outputs": [],
   "source": [
    "# # save the optimal model\n",
    "# model_file_export_path = os.path.splitext(train_filename)[0] + '.model'\n",
    "\n",
    "\n",
    "# from pathlib import Path\n",
    "# from tempfile import mkdtemp, mkstemp\n",
    "\n",
    "# import skops.io as sio\n",
    "# from skops import card, hub_utils\n",
    "\n",
    "# _, pkl_name = mkstemp(prefix=\"skops-\", suffix=\".pkl\")\n",
    "\n",
    "# with open(pkl_name, mode=\"bw\") as f:\n",
    "#     sio.dump(model, file=f)\n",
    "\n",
    "# local_repo = mkdtemp(prefix=\"skops-\")\n",
    "\n",
    "# hub_utils.init(\n",
    "#     model=pkl_name,\n",
    "#     requirements=[f\"scikit-learn={sklearn.__version__}\"],\n",
    "#     dst=local_repo,\n",
    "#     task=\"tabular-regression\",\n",
    "#     data=X_test,\n",
    "# )\n",
    "\n",
    "# if \"__file__\" in locals():  # __file__ not defined during docs built\n",
    "#     # Add this script itself to the files to be uploaded for reproducibility\n",
    "#     hub_utils.add_files(__file__, dst=local_repo)\n",
    "\n",
    "# # %%\n",
    "# # Create a model card\n",
    "# # ===================\n",
    "# # We now create a model card, and populate its metadata with information which\n",
    "# # is already provided in ``config.json``, which itself is created by the call to\n",
    "# # :func:`.hub_utils.init` above. We will see below how we can populate the model\n",
    "# # card with useful information.\n",
    "\n",
    "# model_card = card.Card(model, \n",
    "#                        metadata=card.metadata_from_config(Path(local_repo)))\n",
    "\n",
    "# # %%\n",
    "# # Add more information\n",
    "# # ====================\n",
    "# # So far, the model card does not tell viewers a lot about the model. Therefore,\n",
    "# # we add more information about the model, like a description and what its\n",
    "# # license is.\n",
    "\n",
    "# model_card.metadata.license = \"mit\"\n",
    "# limitations = (\n",
    "#     \"This model is made for educational purposes and is not ready to be used in\"\n",
    "#     \" production.\"\n",
    "# )\n",
    "# model_description = (\n",
    "#     \"This is a Linear Regression model trained on diabetes dataset. This model could be\"\n",
    "#     \" used to predict the progression of diabetes. This model is pretty limited and\"\n",
    "#     \" should just be used as an example of how to user `skops` and Hugging Face Hub.\"\n",
    "# )\n",
    "# model_card_authors = \"the-molecular-man\"\n",
    "# citation_bibtex = \"bibtex\\n@inproceedings{...,year={2024}}\"\n",
    "# model_card.add(\n",
    "#     folded=False,\n",
    "#     **{\n",
    "#         \"Model Card Authors\": model_card_authors,\n",
    "#         \"Intended uses & limitations\": limitations,\n",
    "#         \"Citation\": citation_bibtex,\n",
    "#         \"Model description\": model_description,\n",
    "#         \"Model description/Intended uses & limitations\": limitations,\n",
    "#     },\n",
    "# )\n",
    "\n",
    "# model_card.save(Path(local_repo) / \"README.md\")"
   ]
  },
  {
   "cell_type": "markdown",
   "metadata": {},
   "source": [
    "# Attemping to Plot 3D"
   ]
  },
  {
   "cell_type": "code",
   "execution_count": 32,
   "metadata": {},
   "outputs": [],
   "source": [
    "# import matplotlib.pyplot as plt\n",
    "\n",
    "# from mpl_toolkits.mplot3d import axes3d\n",
    "\n",
    "# ax = plt.figure().add_subplot(projection='3d')\n",
    "# # X, Y, Z = axes3d.get_test_data(0.05)\n",
    "\n",
    "# # print(Z)\n",
    "# # print(len(Z))\n",
    "# # print(len(X[0]))\n",
    "\n",
    "# # x = y = np.arange(-3.0, 3.0, delta)\n",
    "# X, Y = np.meshgrid(MIN_SAMPLES_TO_MAKE_LEAF_RANGE, MAX_TREE_DEPTH_RANGE)\n",
    "# print(X)\n",
    "# print(len(X))\n",
    "# print(len(X[0]))\n",
    "\n",
    "# # X = np.array(metrics_3d[:,0])\n",
    "# # Y = np.array(metrics_3d[:,1])\n",
    "# # Z = np.array(metrics_3d[:,3])\n",
    "\n",
    "# # X = MIN_SAMPLES_TO_MAKE_LEAF_RANGE\n",
    "# # Y = MAX_TREE_DEPTH_RANGE\n",
    "# # Z = 'TBD'\n",
    "\n",
    "# # X = np.array(MIN_SAMPLES_TO_MAKE_LEAF_RANGE)\n",
    "# # Y = np.array(MAX_TREE_DEPTH_RANGE)\n",
    "# # Z = np.array(metrics_3d)\n",
    "# Z = metrics_3d\n",
    "\n",
    "# # print(Z)\n",
    "# # print(type(Z))\n",
    "\n",
    "\n",
    "# # # Plot the 3D surface\n",
    "# ax.plot_surface(X, Y, Z, edgecolor='royalblue', lw=0.5, rstride=8, cstride=8,\n",
    "#                 alpha=0.3)\n",
    "# ax.set_xlabel('X-axis', linespacing=3.2)\n",
    "# ax.set_ylabel('Y-axis', linespacing=3.2)\n",
    "# ax.set_zlabel('Z-axis', linespacing=3.2)"
   ]
  }
 ],
 "metadata": {
  "kernelspec": {
   "display_name": "base",
   "language": "python",
   "name": "python3"
  },
  "language_info": {
   "codemirror_mode": {
    "name": "ipython",
    "version": 3
   },
   "file_extension": ".py",
   "mimetype": "text/x-python",
   "name": "python",
   "nbconvert_exporter": "python",
   "pygments_lexer": "ipython3",
   "version": "3.11.5"
  }
 },
 "nbformat": 4,
 "nbformat_minor": 2
}
