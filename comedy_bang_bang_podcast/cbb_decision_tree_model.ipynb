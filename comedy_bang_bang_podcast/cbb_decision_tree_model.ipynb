{
 "cells": [
  {
   "cell_type": "markdown",
   "metadata": {},
   "source": [
    "# Comedy Bang Bang Podcast Best Of - Decision Tree Model"
   ]
  },
  {
   "cell_type": "code",
   "execution_count": 352,
   "metadata": {},
   "outputs": [],
   "source": [
    "# Define some exclusions for PEP8 that don't apply when the Jupyter Notebook\n",
    "#   is exported to .py file\n",
    "# pylint: disable=pointless-statement\n",
    "# pylint: disable=fixme\n",
    "# pylint: disable=expression-not-assigned\n",
    "# pylint: disable=missing-module-docstring\n",
    "# pylint: disable=invalid-name\n",
    "\n",
    "import os\n",
    "\n",
    "import pandas as pd\n",
    "import numpy as np\n",
    "import matplotlib.pyplot as plt\n",
    "import seaborn as sns\n",
    "\n",
    "from sklearn.model_selection import train_test_split\n",
    "from sklearn.tree import DecisionTreeClassifier\n",
    "import sklearn.metrics as sklm"
   ]
  },
  {
   "cell_type": "markdown",
   "metadata": {},
   "source": [
    "# Setting custom parameters for this model"
   ]
  },
  {
   "cell_type": "code",
   "execution_count": 353,
   "metadata": {},
   "outputs": [],
   "source": [
    "# percentage of training data to use for test\n",
    "TEST_SIZE = 0.33\n",
    "\n",
    "# random seed\n",
    "RANDOM_STATE = 1234\n",
    "\n",
    "# the name for the column that indicates the label/target\n",
    "# the training CSV file should have headers\n",
    "LABEL_COLUMN_NAME = \"label\"\n",
    "\n",
    "# First search range for Max Tree Depth to find a local max:\n",
    "# max_depth_range = [2**i for i in range(6)] # ranges from 1 to 2^5\n",
    "\n",
    "# second search range, zooming in on near the broad maximum found\n",
    "MAX_TREE_DEPTH_RANGE = range(2, 20)\n",
    "\n",
    "# original test to look for local maximum broadly\n",
    "# leaf_range = [2**i for i in range(8)]\n",
    "# new range to local specific max:\n",
    "MIN_SAMPLES_TO_MAKE_LEAF_RANGE = range(1, 20, 1)\n",
    "\n",
    "# acceptable values: accuracy, f1, precision, recall\n",
    "METRIC_TO_MEAUSRE = 'recall'"
   ]
  },
  {
   "cell_type": "code",
   "execution_count": 354,
   "metadata": {},
   "outputs": [
    {
     "data": {
      "text/html": [
       "<div>\n",
       "<style scoped>\n",
       "    .dataframe tbody tr th:only-of-type {\n",
       "        vertical-align: middle;\n",
       "    }\n",
       "\n",
       "    .dataframe tbody tr th {\n",
       "        vertical-align: top;\n",
       "    }\n",
       "\n",
       "    .dataframe thead th {\n",
       "        text-align: right;\n",
       "    }\n",
       "</style>\n",
       "<table border=\"1\" class=\"dataframe\">\n",
       "  <thead>\n",
       "    <tr style=\"text-align: right;\">\n",
       "      <th></th>\n",
       "      <th>duration_in_minutes_winsorized_normalized</th>\n",
       "      <th>hundo</th>\n",
       "      <th>month_published_int_winsorized_normalized</th>\n",
       "      <th>num_actors</th>\n",
       "      <th>num_chars</th>\n",
       "      <th>label</th>\n",
       "    </tr>\n",
       "  </thead>\n",
       "  <tbody>\n",
       "    <tr>\n",
       "      <th>0</th>\n",
       "      <td>0.000000</td>\n",
       "      <td>False</td>\n",
       "      <td>0.000000</td>\n",
       "      <td>3</td>\n",
       "      <td>2</td>\n",
       "      <td>True</td>\n",
       "    </tr>\n",
       "    <tr>\n",
       "      <th>1</th>\n",
       "      <td>0.024390</td>\n",
       "      <td>False</td>\n",
       "      <td>0.000000</td>\n",
       "      <td>3</td>\n",
       "      <td>1</td>\n",
       "      <td>False</td>\n",
       "    </tr>\n",
       "    <tr>\n",
       "      <th>2</th>\n",
       "      <td>0.012195</td>\n",
       "      <td>False</td>\n",
       "      <td>0.000000</td>\n",
       "      <td>3</td>\n",
       "      <td>1</td>\n",
       "      <td>False</td>\n",
       "    </tr>\n",
       "    <tr>\n",
       "      <th>3</th>\n",
       "      <td>0.000000</td>\n",
       "      <td>False</td>\n",
       "      <td>0.000000</td>\n",
       "      <td>5</td>\n",
       "      <td>1</td>\n",
       "      <td>False</td>\n",
       "    </tr>\n",
       "    <tr>\n",
       "      <th>4</th>\n",
       "      <td>0.060976</td>\n",
       "      <td>False</td>\n",
       "      <td>0.090909</td>\n",
       "      <td>3</td>\n",
       "      <td>1</td>\n",
       "      <td>False</td>\n",
       "    </tr>\n",
       "  </tbody>\n",
       "</table>\n",
       "</div>"
      ],
      "text/plain": [
       "   duration_in_minutes_winsorized_normalized  hundo  \\\n",
       "0                                   0.000000  False   \n",
       "1                                   0.024390  False   \n",
       "2                                   0.012195  False   \n",
       "3                                   0.000000  False   \n",
       "4                                   0.060976  False   \n",
       "\n",
       "   month_published_int_winsorized_normalized  num_actors  num_chars  label  \n",
       "0                                   0.000000           3          2   True  \n",
       "1                                   0.000000           3          1  False  \n",
       "2                                   0.000000           3          1  False  \n",
       "3                                   0.000000           5          1  False  \n",
       "4                                   0.090909           3          1  False  "
      ]
     },
     "execution_count": 354,
     "metadata": {},
     "output_type": "execute_result"
    }
   ],
   "source": [
    "filename = os.path.join(\n",
    "    os.getcwd(), \"data\", \"Comedy_bang_bang_podcast_dataset - full_dataset-v16_train.csv\"\n",
    ")\n",
    "df = pd.read_csv(filename, header=0)\n",
    "\n",
    "df.head()"
   ]
  },
  {
   "cell_type": "code",
   "execution_count": 355,
   "metadata": {},
   "outputs": [
    {
     "name": "stdout",
     "output_type": "stream",
     "text": [
      "Feature datatype check passed.\n"
     ]
    }
   ],
   "source": [
    "# verify that there are only numeric and boolean datatypes left\n",
    "# there should not be any strings left\n",
    "for index, value in df.dtypes.items():\n",
    "    assert value in [\n",
    "        \"float64\",\n",
    "        \"bool\",\n",
    "        \"int64\",\n",
    "    ], f\"Column name {index} is not numeric or boolean- found {value}. All features at this point should be numeric or boolean. Exiting.\"\n",
    "\n",
    "print(\"Feature datatype check passed.\")"
   ]
  },
  {
   "cell_type": "markdown",
   "metadata": {},
   "source": [
    "# Check that the data does not contain any missing values.\n",
    "The absense of missing values is necessary for training a Decision Tree model."
   ]
  },
  {
   "cell_type": "code",
   "execution_count": 356,
   "metadata": {},
   "outputs": [],
   "source": [
    "# get a Panda Series of the columns and number of NaNs in each one\n",
    "nan_count = np.sum(df.isnull(), axis=0)\n",
    "\n",
    "# iterate through the Series. It could be easier to just throw and exception if\n",
    "# any have a value of zero.\n",
    "for index, value in nan_count.items():\n",
    "    assert (\n",
    "        value == 0\n",
    "    ), f\"Column name {df.columns[index]} (index = {index}) has {value} missing values (NaN). Decision trees cannot have any missing values. Exiting.\""
   ]
  },
  {
   "cell_type": "markdown",
   "metadata": {},
   "source": [
    "# Split up the data"
   ]
  },
  {
   "cell_type": "code",
   "execution_count": 357,
   "metadata": {},
   "outputs": [],
   "source": [
    "y = df[LABEL_COLUMN_NAME]\n",
    "X = df.drop(columns=LABEL_COLUMN_NAME, axis=1)\n",
    "\n",
    "X_train, X_test, y_train, y_test = train_test_split(\n",
    "    X, y, test_size=TEST_SIZE, random_state=RANDOM_STATE\n",
    ")"
   ]
  },
  {
   "cell_type": "markdown",
   "metadata": {},
   "source": [
    "# Define a function that builds a model given hyperparameters"
   ]
  },
  {
   "cell_type": "code",
   "execution_count": 358,
   "metadata": {},
   "outputs": [],
   "source": [
    "def train_test_DT(X_train1, X_test1, y_train1, y_test1, leaf1, depth1, crit=\"entropy\"):\n",
    "    \"\"\"\n",
    "    Fit a Decision Tree classifier to the training data X_train, y_train.\n",
    "    Return the accuracy of resulting predictions on the test set.\n",
    "    Parameters:\n",
    "        leaf := The minimum number of samples required to be at a leaf node\n",
    "        depth := The maximum depth of the tree\n",
    "        crit := The function to be used to measure the quality of a split.\n",
    "\n",
    "                Default: gini.\n",
    "    \"\"\"\n",
    "    # Instantiate the  Scikit-learn DecisionTreeClassifier model object\n",
    "    # with specific hyperparameters\n",
    "    model = DecisionTreeClassifier(\n",
    "        max_depth=depth1, min_samples_leaf=leaf1, criterion=crit\n",
    "    )\n",
    "\n",
    "    # Fit the model to the training data below\n",
    "    model.fit(X_train1, y_train1)\n",
    "\n",
    "    # Make predictions on the test data and store the results\n",
    "    class_label_predictions = model.predict(X_test1)\n",
    "\n",
    "    # Compute the accuracy\n",
    "    metrics = {\n",
    "        'accuracy':  sklm.accuracy_score(y_test1, class_label_predictions),\n",
    "        'f1':        sklm.f1_score(y_test1, class_label_predictions),\n",
    "        'precision': sklm.precision_score(y_test1, class_label_predictions),\n",
    "        'recall':    sklm.recall_score(y_test1, class_label_predictions)\n",
    "        }\n",
    "\n",
    "    return metrics"
   ]
  },
  {
   "cell_type": "markdown",
   "metadata": {},
   "source": [
    "# Train on different hyperparameter values"
   ]
  },
  {
   "cell_type": "markdown",
   "metadata": {},
   "source": [
    "### Hyperparameter value: Maximum Depth of Tree"
   ]
  },
  {
   "cell_type": "code",
   "execution_count": 359,
   "metadata": {},
   "outputs": [
    {
     "data": {
      "image/png": "[encoded data removed]",
      "text/plain": [
       "<Figure size 640x480 with 1 Axes>"
      ]
     },
     "metadata": {},
     "output_type": "display_data"
    }
   ],
   "source": [
    "# specify the min number of samples to create a leaf as 1 for this\n",
    "# first iteration\n",
    "min_samples_to_create_leaf = 5\n",
    "\n",
    "# initialize an empty list to store results\n",
    "metrics_list = []\n",
    "\n",
    "# iterate on the list of max depths\n",
    "for iter_max_depth_value in MAX_TREE_DEPTH_RANGE:\n",
    "    # train the model and store the accuracy\n",
    "    resulting_metrics = train_test_DT(X_train, X_test, y_train, y_test,\n",
    "                          min_samples_to_create_leaf, iter_max_depth_value)\n",
    "    # print(f'Max Depth= {md} accuracy score: {score}')\n",
    "\n",
    "    # add the results to the list for future plotting\n",
    "    metrics_list.append(float(resulting_metrics[METRIC_TO_MEAUSRE]))\n",
    "\n",
    "fig = plt.figure()\n",
    "ax = fig.add_subplot(111)\n",
    "p = sns.lineplot(x=MAX_TREE_DEPTH_RANGE, y=metrics_list, marker=\"o\", label=\"Full training set\")\n",
    "\n",
    "plt.title(f\"Test set {METRIC_TO_MEAUSRE} of the Decision Tree predictions\")\n",
    "ax.set_xlabel(\"Max depth of Decision Tree\")\n",
    "ax.set_ylabel(METRIC_TO_MEAUSRE)\n",
    "plt.show()"
   ]
  },
  {
   "cell_type": "markdown",
   "metadata": {},
   "source": [
    "# Storing the best value for hyperparameter: Maximum Tree Depth"
   ]
  },
  {
   "cell_type": "code",
   "execution_count": 360,
   "metadata": {},
   "outputs": [],
   "source": [
    "# best max depth value found:\n",
    "OPTIMUM_MAX_DEPTH = 2"
   ]
  },
  {
   "cell_type": "code",
   "execution_count": 361,
   "metadata": {},
   "outputs": [
    {
     "data": {
      "image/png": "[encoded data removed]",
      "text/plain": [
       "<Figure size 640x480 with 1 Axes>"
      ]
     },
     "metadata": {},
     "output_type": "display_data"
    }
   ],
   "source": [
    "# initialize an empty list to store results\n",
    "metrics_list_leaf = []\n",
    "\n",
    "# iterate through list of potential leaf values\n",
    "for leaf in MIN_SAMPLES_TO_MAKE_LEAF_RANGE:\n",
    "    score = train_test_DT(X_train, X_test, y_train, y_test, leaf,\n",
    "                          OPTIMUM_MAX_DEPTH)\n",
    "    # print(f'Leaf = {leaf}, accuracy score: {score}')\n",
    "    metrics_list_leaf.append(float(resulting_metrics[METRIC_TO_MEAUSRE]))\n",
    "\n",
    "fig = plt.figure()\n",
    "ax = fig.add_subplot(111)\n",
    "p = sns.lineplot(x=MIN_SAMPLES_TO_MAKE_LEAF_RANGE, y=metrics_list_leaf,\n",
    "                 marker=\"o\",\n",
    "                 label=\"Full training set\")\n",
    "\n",
    "plt.title(\"Test set accuracy of the DT predictions, Leaf\")\n",
    "ax.set_xlabel(\"minimum number of samples required to be at a leaf node\")\n",
    "ax.set_ylabel(METRIC_TO_MEAUSRE)\n",
    "plt.show()\n"
   ]
  },
  {
   "cell_type": "markdown",
   "metadata": {},
   "source": [
    "# Storing the best value for hyperparameter: Leaf"
   ]
  },
  {
   "cell_type": "code",
   "execution_count": 362,
   "metadata": {},
   "outputs": [],
   "source": [
    "OPTIMUM_LEAF = 2"
   ]
  },
  {
   "cell_type": "markdown",
   "metadata": {},
   "source": [
    "# Run the final model"
   ]
  },
  {
   "cell_type": "code",
   "execution_count": 363,
   "metadata": {},
   "outputs": [
    {
     "data": {
      "text/plain": [
       "{'accuracy': 0.7782258064516129,\n",
       " 'f1': 0.15384615384615385,\n",
       " 'precision': 0.5,\n",
       " 'recall': 0.09090909090909091}"
      ]
     },
     "execution_count": 363,
     "metadata": {},
     "output_type": "execute_result"
    }
   ],
   "source": [
    "# run the final model that uses both of the optimum values:\n",
    "final_metrics = train_test_DT(X_train, X_test, y_train, y_test, OPTIMUM_LEAF, OPTIMUM_MAX_DEPTH)\n",
    "final_metrics\n",
    "# print(f\"Maximum accuracy score: {score:.4}\")"
   ]
  },
  {
   "cell_type": "markdown",
   "metadata": {},
   "source": [
    "# Optimizing hyperparmeters"
   ]
  },
  {
   "cell_type": "code",
   "execution_count": 364,
   "metadata": {},
   "outputs": [
    {
     "name": "stdout",
     "output_type": "stream",
     "text": [
      "Best leaf value =    9, Best max depth =    2, resulted in highest value of accuracy   = 0.79032\n",
      "Best leaf value =    4, Best max depth =   14, resulted in highest value of f1         = 0.34043\n",
      "Best leaf value =    9, Best max depth =    2, resulted in highest value of precision  = 0.71429\n",
      "Best leaf value =    1, Best max depth =   16, resulted in highest value of recall     = 0.30909\n"
     ]
    }
   ],
   "source": [
    "# calculate options\n",
    "# dims = (len(MIN_SAMPLES_TO_MAKE_LEAF_RANGE)+1, len(MAX_TREE_DEPTH_RANGE)+1)\n",
    "# metrics_3d = np.ones(dims)\n",
    "\n",
    "for METRIC_TO_MEAUSRE in ['accuracy', 'f1', 'precision', 'recall']:\n",
    "    best_leaf = 0\n",
    "    best_depth = 0\n",
    "    best_metric = 0\n",
    "\n",
    "    for r, iter_leaf in enumerate(MIN_SAMPLES_TO_MAKE_LEAF_RANGE):\n",
    "        for c, iter_max_depth_value in enumerate(MAX_TREE_DEPTH_RANGE):\n",
    "            # train the model and store the accuracy\n",
    "            resulting_metrics = train_test_DT(X_train, X_test, y_train, y_test,\n",
    "                                iter_leaf, iter_max_depth_value)\n",
    "            \n",
    "            # need to optimize so I don't have to loop through this 4 times\n",
    "            met = resulting_metrics[METRIC_TO_MEAUSRE]\n",
    "            if met > best_metric:\n",
    "                best_leaf = iter_leaf\n",
    "                best_depth = iter_max_depth_value\n",
    "                best_metric = met\n",
    "        \n",
    "    print(f'Best leaf value = {best_leaf:4}, Best max depth = {best_depth:4}, resulted in highest value of {METRIC_TO_MEAUSRE:10} = {best_metric:.5}')\n",
    "\n",
    "# Best leaf value =    9, Best max depth =    2, resulted in highest value of accuracy   = 0.79032\n",
    "# Best leaf value =    4, Best max depth =   14, resulted in highest value of f1         = 0.34043\n",
    "# Best leaf value =    9, Best max depth =    2, resulted in highest value of precision  = 0.71429\n",
    "# Best leaf value =    1, Best max depth =   16, resulted in highest value of recall     = 0.30909"
   ]
  },
  {
   "cell_type": "markdown",
   "metadata": {},
   "source": [
    "# Attemping to Plot 3D"
   ]
  },
  {
   "cell_type": "code",
   "execution_count": 365,
   "metadata": {},
   "outputs": [],
   "source": [
    "# import matplotlib.pyplot as plt\n",
    "\n",
    "# from mpl_toolkits.mplot3d import axes3d\n",
    "\n",
    "# ax = plt.figure().add_subplot(projection='3d')\n",
    "# # X, Y, Z = axes3d.get_test_data(0.05)\n",
    "\n",
    "# # print(Z)\n",
    "# # print(len(Z))\n",
    "# # print(len(X[0]))\n",
    "\n",
    "# # x = y = np.arange(-3.0, 3.0, delta)\n",
    "# X, Y = np.meshgrid(MIN_SAMPLES_TO_MAKE_LEAF_RANGE, MAX_TREE_DEPTH_RANGE)\n",
    "# print(X)\n",
    "# print(len(X))\n",
    "# print(len(X[0]))\n",
    "\n",
    "# # X = np.array(metrics_3d[:,0])\n",
    "# # Y = np.array(metrics_3d[:,1])\n",
    "# # Z = np.array(metrics_3d[:,3])\n",
    "\n",
    "# # X = MIN_SAMPLES_TO_MAKE_LEAF_RANGE\n",
    "# # Y = MAX_TREE_DEPTH_RANGE\n",
    "# # Z = 'TBD'\n",
    "\n",
    "# # X = np.array(MIN_SAMPLES_TO_MAKE_LEAF_RANGE)\n",
    "# # Y = np.array(MAX_TREE_DEPTH_RANGE)\n",
    "# # Z = np.array(metrics_3d)\n",
    "# Z = metrics_3d\n",
    "\n",
    "# # print(Z)\n",
    "# # print(type(Z))\n",
    "\n",
    "\n",
    "# # # Plot the 3D surface\n",
    "# ax.plot_surface(X, Y, Z, edgecolor='royalblue', lw=0.5, rstride=8, cstride=8,\n",
    "#                 alpha=0.3)\n",
    "# ax.set_xlabel('X-axis', linespacing=3.2)\n",
    "# ax.set_ylabel('Y-axis', linespacing=3.2)\n",
    "# ax.set_zlabel('Z-axis', linespacing=3.2)"
   ]
  }
 ],
 "metadata": {
  "kernelspec": {
   "display_name": "base",
   "language": "python",
   "name": "python3"
  },
  "language_info": {
   "codemirror_mode": {
    "name": "ipython",
    "version": 3
   },
   "file_extension": ".py",
   "mimetype": "text/x-python",
   "name": "python",
   "nbconvert_exporter": "python",
   "pygments_lexer": "ipython3",
   "version": "3.11.5"
  }
 },
 "nbformat": 4,
 "nbformat_minor": 2
}
