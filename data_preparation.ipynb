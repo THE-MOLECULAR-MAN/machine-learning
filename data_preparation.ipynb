{
 "cells": [
  {
   "cell_type": "markdown",
   "metadata": {},
   "source": [
    "# Data Preparation\n",
    "This notebook is intended to automatically process raw data into training-ready data with minimal need for customization. It assumes you've already done some Exploratory Data Analysis.\n",
    "\n",
    "This notebook is intended to be the second in a 3 step process:\n",
    "1) Exploratory Data Analysis\n",
    "2) Data Preparation\n",
    "3) Model Training and Evaluation\n",
    "\n",
    "This notebook walks through these Data Preparation processes:\n",
    "* Converting datatypes\n",
    "* Winsorizing outliers\n",
    "* Replacing missing values\n",
    "* Filtering with specific criteria\n",
    "* Normalizing numerical ranges\n",
    "* Removing features that are too heavily correlated with other features\n",
    "* Removing features that have too low correlation with the label\n",
    "* Encoding categorical variables\n",
    "* Converting strings to one-hot encoded columns\n",
    "\n",
    "* Verifying balance\n",
    "    * Calculating the Proportion of Each Class\n",
    "    * Addressing imbalance by upsampling underrepresented groups\n",
    "\n",
    "Style guides:\n",
    "* TODO: mostly meet [PEP-8](https://peps.python.org/pep-0008/)"
   ]
  },
  {
   "cell_type": "markdown",
   "metadata": {},
   "source": [
    "#### Import dependencies"
   ]
  },
  {
   "cell_type": "code",
   "execution_count": 20,
   "metadata": {},
   "outputs": [],
   "source": [
    "# Define some exclusions for PEP8 that don't apply when the Jupyter Notebook\n",
    "#   is exported to .py file\n",
    "# pylint: disable=pointless-statement\n",
    "# pylint: disable=fixme\n",
    "# pylint: disable=expression-not-assigned\n",
    "# pylint: disable=missing-module-docstring\n",
    "# pylint: disable=invalid-name\n",
    "\n",
    "import os\n",
    "# import sys\n",
    "from math import isnan\n",
    "\n",
    "import pandas as pd\n",
    "# import matplotlib.pyplot as plt\n",
    "import seaborn as sns\n",
    "import numpy as np\n",
    "from scipy import stats\n",
    "\n",
    "sns.set_theme()"
   ]
  },
  {
   "cell_type": "markdown",
   "metadata": {},
   "source": [
    "### Load the data into a Pandas dataframe\n",
    "\n",
    "Define the path to the dataset file\n",
    "\n",
    "Define the name of the label column"
   ]
  },
  {
   "cell_type": "code",
   "execution_count": 21,
   "metadata": {},
   "outputs": [],
   "source": [
    "rootdir = os.getcwd()\n",
    "infile = os.path.join(rootdir,\n",
    "                      'eCornell/CTECH462_Managing_Data_In_Machine_Learning/data',\n",
    "                      'adult.data.full.asst')\n",
    "\n",
    "df = pd.read_csv(infile)"
   ]
  },
  {
   "cell_type": "markdown",
   "metadata": {},
   "source": [
    "#### Defining reused variables"
   ]
  },
  {
   "cell_type": "code",
   "execution_count": 22,
   "metadata": {},
   "outputs": [
    {
     "name": "stdout",
     "output_type": "stream",
     "text": [
      "32561\n",
      "['age', 'workclass', 'fnlwgt', 'education', 'education-num', 'marital-status', 'occupation', 'relationship', 'race', 'sex_selfID', 'capital-gain', 'capital-loss', 'hours-per-week', 'native-country', 'income_binary']\n",
      "['age', 'fnlwgt', 'education-num', 'capital-gain', 'capital-loss', 'hours-per-week']\n",
      "['workclass', 'education', 'marital-status', 'occupation', 'relationship', 'race', 'sex_selfID', 'native-country', 'income_binary']\n"
     ]
    }
   ],
   "source": [
    "RAW_NUM_SAMPLES           = df.shape[0]\n",
    "RAW_COLUMN_NAMES          = df.columns.tolist()\n",
    "RAW_NUMERIC_COLUMN_NAMES  = df.select_dtypes(include=np.number).columns.tolist()\n",
    "RAW_OBJECT_COLUMN_NAMES   = df.select_dtypes(include=object).columns.tolist()\n",
    "\n",
    "print(RAW_NUM_SAMPLES)\n",
    "print(RAW_COLUMN_NAMES)\n",
    "print(RAW_NUMERIC_COLUMN_NAMES)\n",
    "print(RAW_OBJECT_COLUMN_NAMES)"
   ]
  },
  {
   "cell_type": "markdown",
   "metadata": {},
   "source": [
    "#### Locating or defining the column name for the label/target\n",
    "\n",
    "Check to see if there is an existing column named 'label' or 'target'. If so, then use that as the label name. Otherwise, use the last column as the label name."
   ]
  },
  {
   "cell_type": "code",
   "execution_count": 23,
   "metadata": {},
   "outputs": [
    {
     "name": "stdout",
     "output_type": "stream",
     "text": [
      "income_binary\n"
     ]
    }
   ],
   "source": [
    "label_name_list = ['label', 'target']\n",
    "\n",
    "LABEL_COLUMN_NAME = None\n",
    "\n",
    "for l in label_name_list:\n",
    "    if l.lower() in [x.lower() for x in RAW_COLUMN_NAMES]:\n",
    "        LABEL_COLUMN_NAME = l\n",
    "        break\n",
    "\n",
    "if LABEL_COLUMN_NAME is None:\n",
    "    LABEL_COLUMN_NAME = RAW_COLUMN_NAMES[-1]\n",
    "    \n",
    "print(LABEL_COLUMN_NAME)"
   ]
  },
  {
   "cell_type": "markdown",
   "metadata": {},
   "source": [
    "## Detecting and converting dates and timestamps\n",
    "Description TBD"
   ]
  },
  {
   "cell_type": "code",
   "execution_count": null,
   "metadata": {},
   "outputs": [],
   "source": [
    "# Code TBD"
   ]
  },
  {
   "cell_type": "markdown",
   "metadata": {},
   "source": [
    "## Winsorizing outliers\n",
    "Description TBD"
   ]
  },
  {
   "cell_type": "code",
   "execution_count": null,
   "metadata": {},
   "outputs": [],
   "source": [
    "# Code TBD"
   ]
  },
  {
   "cell_type": "markdown",
   "metadata": {},
   "source": [
    "## Replacing missing values\n",
    "Description TBD"
   ]
  },
  {
   "cell_type": "code",
   "execution_count": null,
   "metadata": {},
   "outputs": [],
   "source": [
    "# Code TBD"
   ]
  },
  {
   "cell_type": "markdown",
   "metadata": {},
   "source": [
    "## Filtering with specific criteria\n",
    "Description TBD"
   ]
  },
  {
   "cell_type": "code",
   "execution_count": null,
   "metadata": {},
   "outputs": [],
   "source": [
    "# Code TBD"
   ]
  },
  {
   "cell_type": "markdown",
   "metadata": {},
   "source": [
    "## Normalizing numerical ranges\n",
    "Description TBD"
   ]
  },
  {
   "cell_type": "code",
   "execution_count": null,
   "metadata": {},
   "outputs": [],
   "source": [
    "# Code TBD"
   ]
  },
  {
   "cell_type": "markdown",
   "metadata": {},
   "source": [
    "## Encoding categorical variables\n",
    "Description TBD"
   ]
  },
  {
   "cell_type": "code",
   "execution_count": null,
   "metadata": {},
   "outputs": [],
   "source": [
    "# Code TBD"
   ]
  },
  {
   "cell_type": "markdown",
   "metadata": {},
   "source": [
    "## Converting strings to one-hot encoded columns\n",
    "Description TBD"
   ]
  },
  {
   "cell_type": "code",
   "execution_count": null,
   "metadata": {},
   "outputs": [],
   "source": [
    "# Code TBD"
   ]
  },
  {
   "cell_type": "markdown",
   "metadata": {},
   "source": [
    "## Removing features that are too heavily correlated with other features\n",
    "Description TBD"
   ]
  },
  {
   "cell_type": "code",
   "execution_count": null,
   "metadata": {},
   "outputs": [],
   "source": [
    "# Code TBD"
   ]
  },
  {
   "cell_type": "markdown",
   "metadata": {},
   "source": [
    "## Removing features that have too low correlation with the label\n",
    "Description TBD"
   ]
  },
  {
   "cell_type": "code",
   "execution_count": null,
   "metadata": {},
   "outputs": [],
   "source": [
    "# Code TBD"
   ]
  },
  {
   "cell_type": "markdown",
   "metadata": {},
   "source": [
    "# Correcting for bias and underrepresentation\n",
    "Description TBD"
   ]
  },
  {
   "cell_type": "code",
   "execution_count": null,
   "metadata": {},
   "outputs": [],
   "source": [
    "# Code TBD"
   ]
  }
 ],
 "metadata": {
  "kernelspec": {
   "display_name": "base",
   "language": "python",
   "name": "python3"
  },
  "language_info": {
   "codemirror_mode": {
    "name": "ipython",
    "version": 3
   },
   "file_extension": ".py",
   "mimetype": "text/x-python",
   "name": "python",
   "nbconvert_exporter": "python",
   "pygments_lexer": "ipython3",
   "version": "3.11.5"
  }
 },
 "nbformat": 4,
 "nbformat_minor": 2
}
