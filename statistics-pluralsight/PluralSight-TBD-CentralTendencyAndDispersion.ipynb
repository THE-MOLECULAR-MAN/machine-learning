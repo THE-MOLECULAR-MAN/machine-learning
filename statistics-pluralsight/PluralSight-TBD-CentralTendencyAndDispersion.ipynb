{
 "cells": [
  {
   "cell_type": "code",
   "execution_count": null,
   "id": "bdf6e689-54df-4841-80a6-622934a5c97c",
   "metadata": {
    "collapsed": true,
    "jupyter": {
     "outputs_hidden": true,
     "source_hidden": true
    }
   },
   "outputs": [],
   "source": [
    "# # create a virtual env, install specific version of libraries used in lab\n",
    "# # attempt to load the existing env if it exists\n",
    "# # if it does not exist, then create it and activate it\n",
    "# ! source ./.venv/bin/activate || python3 -m venv ./.venv && source ./.venv/bin/activate\n",
    "\n",
    "# # upgrade pip\n",
    "# ! pip3 install --upgrade pip\n",
    "\n",
    "# # install dependencies. ipykernel is required.\n",
    "# ! pip install ipykernel matplotlib pylatexenc pandas seaborn --quiet\n"
   ]
  },
  {
   "cell_type": "code",
   "execution_count": null,
   "id": "732fe758-19a3-48d1-abb9-e8994679d798",
   "metadata": {},
   "outputs": [],
   "source": [
    "import statistics\n",
    "\n",
    "import numpy as np\n",
    "import pandas as pd\n",
    "\n",
    "import seaborn as sns\n",
    "import matplotlib.pyplot as plt\n",
    "\n",
    "sns.set_theme(style=\"darkgrid\")\n"
   ]
  },
  {
   "cell_type": "code",
   "execution_count": null,
   "id": "a5739903-b69d-48bb-86a8-825729030fea",
   "metadata": {},
   "outputs": [],
   "source": [
    "# https://www.kaggle.com/datasets/ash316/forbes-top-2000-companies\n",
    "forbes_data = pd.read_csv('Forbes Top2000 2017.csv')\n",
    "forbes_data.head()\n"
   ]
  },
  {
   "cell_type": "code",
   "execution_count": null,
   "id": "00d1fab4",
   "metadata": {},
   "outputs": [],
   "source": [
    "# see if there are any null values in the data set\n",
    "forbes_data.isnull().sum()"
   ]
  },
  {
   "cell_type": "code",
   "execution_count": null,
   "id": "e04fb134",
   "metadata": {},
   "outputs": [],
   "source": [
    "# drop the null values and verify they're gone\n",
    "# GOTCHA: hadd to add the how and axis parameters\n",
    "# otherwise it deleted ALL rows within the dataframe\n",
    "# axis=0 # default, drops ROWS that contain missing values\n",
    "# axis=1 # not default, drops COLUMNS that contain missing values\n",
    "# https://pandas.pydata.org/docs/reference/api/pandas.DataFrame.dropna.html\n",
    "# how=any If any NA values are present, drop that row or column.\n",
    "# how=all If all values are NA, drop that row or column.\n",
    "# I also had to add the subset to manually specify which columns to include\n",
    "# otherwise it didn't work\n",
    "# The video was recorded in 2021 and probably used an older version of Pandas\n",
    "forbes_data.dropna(how='any', subset=['Sector', 'Industry'], inplace=True)\n",
    "forbes_data.isnull().sum()"
   ]
  },
  {
   "cell_type": "code",
   "execution_count": null,
   "id": "69051ee4",
   "metadata": {},
   "outputs": [],
   "source": [
    "forbes_data.shape\n"
   ]
  },
  {
   "cell_type": "code",
   "execution_count": null,
   "id": "a685b6ec",
   "metadata": {},
   "outputs": [],
   "source": [
    "market_value_mean = forbes_data['Market Value'].mean()\n",
    "market_value_mean"
   ]
  },
  {
   "cell_type": "code",
   "execution_count": null,
   "id": "96d6217c",
   "metadata": {},
   "outputs": [],
   "source": [
    "market_value_med = forbes_data['Market Value'].median()\n",
    "market_value_med"
   ]
  },
  {
   "cell_type": "code",
   "execution_count": null,
   "id": "adbe0721",
   "metadata": {},
   "outputs": [],
   "source": [
    "# getting the Mode\n",
    "forbes_data['Sector'].value_counts()\n",
    "# the most common Sector is Financials\n"
   ]
  },
  {
   "cell_type": "code",
   "execution_count": null,
   "id": "04918b82",
   "metadata": {},
   "outputs": [],
   "source": [
    "sector_mode = forbes_data['Sector'].mode()\n",
    "sector_mode\n",
    "\n",
    "# normal for it to return a \"0\" leading the Financials"
   ]
  },
  {
   "cell_type": "code",
   "execution_count": null,
   "id": "ca303a06",
   "metadata": {},
   "outputs": [],
   "source": [
    "# plot all data in raw format\n",
    "plt.figure(figsize=(12,8))\n",
    "\n",
    "sns.boxplot(data=forbes_data, y='Market Value', showmeans=True)\n",
    "\n",
    "plt.axhline(y=market_value_mean, color='r', linestyle='-')\n",
    "plt.axhline(y=market_value_med, color='g', linestyle='-')\n",
    "\n",
    "plt.title('Forbes Data')\n",
    "plt.show()"
   ]
  },
  {
   "cell_type": "code",
   "execution_count": null,
   "id": "68853f8c",
   "metadata": {},
   "outputs": [],
   "source": [
    "# There were a lot of outliers, so adding a new limitation on y-axis\n",
    "plt.figure(figsize=(12,8))\n",
    "\n",
    "sns.boxplot(data=forbes_data, y='Market Value', showmeans=True)\n",
    "\n",
    "# addition:\n",
    "plt.ylim(0,80)\n",
    "\n",
    "plt.axhline(y=market_value_mean, color='r', linestyle='-')\n",
    "plt.axhline(y=market_value_med, color='g', linestyle='-')\n",
    "\n",
    "plt.title('Forbes Data')\n",
    "plt.show()"
   ]
  },
  {
   "cell_type": "code",
   "execution_count": null,
   "id": "8b35b664",
   "metadata": {},
   "outputs": [],
   "source": [
    "# https://app.pluralsight.com/ilx/video-courses/4b4cdb5a-b0b9-4c17-8e5c-9d9e07e522a0/6890dda1-93e6-4d17-a91d-35d55fed4d46/b37bf402-ceed-4323-b994-d7c39dc75841\n",
    "\n",
    "prof_max = forbes_data['Profits'].max()\n",
    "\n",
    "prof_max"
   ]
  },
  {
   "cell_type": "code",
   "execution_count": null,
   "id": "c4125987",
   "metadata": {},
   "outputs": [],
   "source": [
    "\n",
    "prof_min = forbes_data['Profits'].min()\n",
    "\n",
    "prof_min"
   ]
  },
  {
   "cell_type": "code",
   "execution_count": null,
   "id": "2ef79736",
   "metadata": {},
   "outputs": [],
   "source": [
    "prof_range = prof_max - prof_min\n",
    "prof_range\n",
    "# surprisingly, there is not a .range() function\n"
   ]
  },
  {
   "cell_type": "code",
   "execution_count": 65,
   "id": "96b5c476",
   "metadata": {},
   "outputs": [
    {
     "data": {
      "image/png": "[encoded data removed]",
      "text/plain": [
       "<Figure size 1200x800 with 1 Axes>"
      ]
     },
     "metadata": {},
     "output_type": "display_data"
    }
   ],
   "source": [
    "plt.figure(figsize=(12, 8))\n",
    "\n",
    "sns.boxplot(data=forbes_data, y='Profits', showmeans=True)\n",
    "\n",
    "plt.title('Forbes Data')\n",
    "\n",
    "# set limits\n",
    "plt.ylim(-3, 8)\n",
    "\n",
    "plt.show()"
   ]
  },
  {
   "cell_type": "code",
   "execution_count": 66,
   "id": "05de8c67",
   "metadata": {},
   "outputs": [
    {
     "data": {
      "text/plain": [
       "0.34975"
      ]
     },
     "execution_count": 66,
     "metadata": {},
     "output_type": "execute_result"
    }
   ],
   "source": [
    "# first quartile percentile\n",
    "Q1 = np.quantile(forbes_data['Profits'], 0.25)\n",
    "\n",
    "Q1"
   ]
  },
  {
   "cell_type": "code",
   "execution_count": 67,
   "id": "9890c6d5",
   "metadata": {},
   "outputs": [
    {
     "data": {
      "text/plain": [
       "1.4249999999999998"
      ]
     },
     "execution_count": 67,
     "metadata": {},
     "output_type": "execute_result"
    }
   ],
   "source": [
    "# first quartile percentile\n",
    "Q3 = np.quantile(forbes_data['Profits'], 0.75)\n",
    "\n",
    "Q3"
   ]
  },
  {
   "cell_type": "code",
   "execution_count": 68,
   "id": "09a5f838",
   "metadata": {},
   "outputs": [
    {
     "data": {
      "text/plain": [
       "1.0752499999999998"
      ]
     },
     "execution_count": 68,
     "metadata": {},
     "output_type": "execute_result"
    }
   ],
   "source": [
    "# inter quartile range from first to third quartile:\n",
    "IQR = Q3 - Q1\n",
    "IQR\n"
   ]
  },
  {
   "cell_type": "code",
   "execution_count": 69,
   "id": "e31afca6",
   "metadata": {},
   "outputs": [
    {
     "data": {
      "text/plain": [
       "3.244201278603241"
      ]
     },
     "execution_count": 69,
     "metadata": {},
     "output_type": "execute_result"
    }
   ],
   "source": [
    "# Standard deviation\n",
    "\n",
    "prof_std = forbes_data['Profits'].std()\n",
    "\n",
    "prof_std"
   ]
  },
  {
   "cell_type": "code",
   "execution_count": 70,
   "id": "94dda4b3",
   "metadata": {},
   "outputs": [
    {
     "data": {
      "text/plain": [
       "10.524841936090903"
      ]
     },
     "execution_count": 70,
     "metadata": {},
     "output_type": "execute_result"
    }
   ],
   "source": [
    "# Variance - the square of the standard deviation\n",
    "\n",
    "prof_var = prof_std ** 2\n",
    "prof_var"
   ]
  },
  {
   "cell_type": "code",
   "execution_count": 71,
   "id": "351c76be",
   "metadata": {},
   "outputs": [
    {
     "data": {
      "text/plain": [
       "10.524841936090903"
      ]
     },
     "execution_count": 71,
     "metadata": {},
     "output_type": "execute_result"
    }
   ],
   "source": [
    "# directly computing the variance\n",
    "\n",
    "prof_var = forbes_data['Profits'].var()\n",
    "\n",
    "prof_var"
   ]
  },
  {
   "cell_type": "code",
   "execution_count": 72,
   "id": "c4ebed22",
   "metadata": {},
   "outputs": [
    {
     "data": {
      "text/html": [
       "<div>\n",
       "<style scoped>\n",
       "    .dataframe tbody tr th:only-of-type {\n",
       "        vertical-align: middle;\n",
       "    }\n",
       "\n",
       "    .dataframe tbody tr th {\n",
       "        vertical-align: top;\n",
       "    }\n",
       "\n",
       "    .dataframe thead th {\n",
       "        text-align: right;\n",
       "    }\n",
       "</style>\n",
       "<table border=\"1\" class=\"dataframe\">\n",
       "  <thead>\n",
       "    <tr style=\"text-align: right;\">\n",
       "      <th></th>\n",
       "      <th>Unnamed: 0</th>\n",
       "      <th>Rank</th>\n",
       "      <th>Sales</th>\n",
       "      <th>Profits</th>\n",
       "      <th>Assets</th>\n",
       "      <th>Market Value</th>\n",
       "    </tr>\n",
       "  </thead>\n",
       "  <tbody>\n",
       "    <tr>\n",
       "      <th>count</th>\n",
       "      <td>0.0</td>\n",
       "      <td>1508.000000</td>\n",
       "      <td>1508.000000</td>\n",
       "      <td>1508.000000</td>\n",
       "      <td>1508.000000</td>\n",
       "      <td>1508.000000</td>\n",
       "    </tr>\n",
       "    <tr>\n",
       "      <th>mean</th>\n",
       "      <td>NaN</td>\n",
       "      <td>909.135279</td>\n",
       "      <td>19.623046</td>\n",
       "      <td>1.407430</td>\n",
       "      <td>97.647016</td>\n",
       "      <td>26.978494</td>\n",
       "    </tr>\n",
       "    <tr>\n",
       "      <th>std</th>\n",
       "      <td>NaN</td>\n",
       "      <td>554.044456</td>\n",
       "      <td>30.875809</td>\n",
       "      <td>3.244201</td>\n",
       "      <td>287.036157</td>\n",
       "      <td>47.099541</td>\n",
       "    </tr>\n",
       "    <tr>\n",
       "      <th>min</th>\n",
       "      <td>NaN</td>\n",
       "      <td>1.000000</td>\n",
       "      <td>0.001000</td>\n",
       "      <td>-13.000000</td>\n",
       "      <td>1.300000</td>\n",
       "      <td>0.240000</td>\n",
       "    </tr>\n",
       "    <tr>\n",
       "      <th>25%</th>\n",
       "      <td>NaN</td>\n",
       "      <td>433.750000</td>\n",
       "      <td>4.900000</td>\n",
       "      <td>0.349750</td>\n",
       "      <td>12.800000</td>\n",
       "      <td>7.300000</td>\n",
       "    </tr>\n",
       "    <tr>\n",
       "      <th>50%</th>\n",
       "      <td>NaN</td>\n",
       "      <td>883.500000</td>\n",
       "      <td>10.300000</td>\n",
       "      <td>0.692500</td>\n",
       "      <td>25.900000</td>\n",
       "      <td>13.100000</td>\n",
       "    </tr>\n",
       "    <tr>\n",
       "      <th>75%</th>\n",
       "      <td>NaN</td>\n",
       "      <td>1354.250000</td>\n",
       "      <td>19.900000</td>\n",
       "      <td>1.425000</td>\n",
       "      <td>60.325000</td>\n",
       "      <td>26.900000</td>\n",
       "    </tr>\n",
       "    <tr>\n",
       "      <th>max</th>\n",
       "      <td>NaN</td>\n",
       "      <td>1999.000000</td>\n",
       "      <td>485.300000</td>\n",
       "      <td>45.200000</td>\n",
       "      <td>3473.200000</td>\n",
       "      <td>752.000000</td>\n",
       "    </tr>\n",
       "  </tbody>\n",
       "</table>\n",
       "</div>"
      ],
      "text/plain": [
       "       Unnamed: 0         Rank        Sales      Profits       Assets  \\\n",
       "count         0.0  1508.000000  1508.000000  1508.000000  1508.000000   \n",
       "mean          NaN   909.135279    19.623046     1.407430    97.647016   \n",
       "std           NaN   554.044456    30.875809     3.244201   287.036157   \n",
       "min           NaN     1.000000     0.001000   -13.000000     1.300000   \n",
       "25%           NaN   433.750000     4.900000     0.349750    12.800000   \n",
       "50%           NaN   883.500000    10.300000     0.692500    25.900000   \n",
       "75%           NaN  1354.250000    19.900000     1.425000    60.325000   \n",
       "max           NaN  1999.000000   485.300000    45.200000  3473.200000   \n",
       "\n",
       "       Market Value  \n",
       "count   1508.000000  \n",
       "mean      26.978494  \n",
       "std       47.099541  \n",
       "min        0.240000  \n",
       "25%        7.300000  \n",
       "50%       13.100000  \n",
       "75%       26.900000  \n",
       "max      752.000000  "
      ]
     },
     "execution_count": 72,
     "metadata": {},
     "output_type": "execute_result"
    }
   ],
   "source": [
    "# instead of computing all of these statistical values manually, you can just use .describe to calculate them for all\n",
    "# columns that are numerical:\n",
    "\n",
    "forbes_data.describe()"
   ]
  }
 ],
 "metadata": {
  "kernelspec": {
   "display_name": "Python 3 (ipykernel)",
   "language": "python",
   "name": "python3"
  },
  "language_info": {
   "codemirror_mode": {
    "name": "ipython",
    "version": 3
   },
   "file_extension": ".py",
   "mimetype": "text/x-python",
   "name": "python",
   "nbconvert_exporter": "python",
   "pygments_lexer": "ipython3",
   "version": "3.11.6"
  }
 },
 "nbformat": 4,
 "nbformat_minor": 5
}
